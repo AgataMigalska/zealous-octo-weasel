{
 "cells": [
  {
   "cell_type": "markdown",
   "metadata": {},
   "source": [
    "## Given maximal number of comparisons an ordinary person can perform without going insane and assuming that these comparisons must be enough for creating a ranking, what is the maximal size of image gallery?"
   ]
  },
  {
   "cell_type": "markdown",
   "metadata": {},
   "source": [
    "### Graph Connectivity Threshold\n",
    "\n",
    "Erdos-Renyi Random Graph $G(n,p)$, where: <br/>\n",
    "$n$ - number of nodes and <br/>\n",
    "$p$ - probability of selecting an edge,  <br/>\n",
    "will almost surely be connected if <br/>\n",
    "\\begin{align}p > \\frac{\\left(1-\\epsilon\\right) \\ln n}{n} \\end{align}\n",
    "for some positive $\\epsilon$."
   ]
  },
  {
   "cell_type": "markdown",
   "metadata": {},
   "source": [
    "#### How many edges in a connected graph?\n",
    "\n",
    "\n",
    "${{n}\\choose{2}}$ edges in a complete graph. \n",
    "\\begin{align}\n",
    "k_0 = p \\cdot {{n}\\choose{2}} = \\left(1+\\epsilon\\right)\\frac{\\ln n}{n} \\cdot \\frac{n\\left(n-1\\right)}{2} = \\left(1+\\epsilon\\right)\\frac{n-1}{2}\\ln n\n",
    "\\end{align}"
   ]
  },
  {
   "cell_type": "markdown",
   "metadata": {},
   "source": [
    "### Rank Centrality\n",
    "\n",
    "$ p = {}^d/_n$\n",
    "\n",
    "\"[...] as long as we choose $d = \\Theta\\left(\\ln^2 n\\right)$ [...] the error goes to $0$ as $n$ increases.\" [1]"
   ]
  },
  {
   "cell_type": "markdown",
   "metadata": {},
   "source": [
    "\\begin{align}\n",
    "k_1 = p \\cdot {{n}\\choose{2}} = \\frac{\\ln^2 n}{n} \\cdot \\frac{n\\left(n-1\\right)}{2} = \\frac{n-1}{2}\\ln^2 n\n",
    "\\end{align}"
   ]
  },
  {
   "cell_type": "markdown",
   "metadata": {},
   "source": [
    "$k_1 > k_0 \\Leftrightarrow \\ln n > 1 + \\epsilon \\Leftrightarrow n > \\exp(1+\\epsilon)$ (for some positive $\\epsilon$)."
   ]
  },
  {
   "cell_type": "markdown",
   "metadata": {},
   "source": [
    "### Let's set a sanity threshold of comparisons and retrieve a number of images in the gallery"
   ]
  },
  {
   "cell_type": "code",
   "execution_count": 28,
   "metadata": {
    "collapsed": false
   },
   "outputs": [
    {
     "data": {
      "text/plain": [
       "<matplotlib.text.Text at 0x6855a20>"
      ]
     },
     "execution_count": 28,
     "metadata": {},
     "output_type": "execute_result"
    },
    {
     "data": {
      "image/png": "[encoded data removed]",
      "text/plain": [
       "<matplotlib.figure.Figure at 0x6842278>"
      ]
     },
     "metadata": {},
     "output_type": "display_data"
    }
   ],
   "source": [
    "%matplotlib inline\n",
    "\n",
    "import numpy as np\n",
    "import matplotlib.pyplot as plt\n",
    "\n",
    "comparison_threshold = 80\n",
    "\n",
    "x = np.arange(1,60)\n",
    "rank_centrality = np.ceil(0.5*(x-1)*np.log(x)**2)\n",
    "connectivity_threshold = np.ceil(0.5*(x-1)*np.log(x))\n",
    "z = np.ones((len(x)))\n",
    "z[:]=comparison_threshold\n",
    "ranking, = plt.plot(x,rank_centrality,'b--',label='Rank Centrality')\n",
    "sanity, = plt.plot(x,z,'r--', label='Sanity')\n",
    "connectivity, = plt.plot(x, connectivity_threshold, 'g--', label='Connectivity')\n",
    "plt.legend(handles=[ranking, sanity, connectivity], loc=2)\n",
    "plt.title('Thresholds')"
   ]
  },
  {
   "cell_type": "markdown",
   "metadata": {},
   "source": [
    "Graph having <code>comparison_threshold</code> edges is connected almost for sure if its number of nodes is at most..."
   ]
  },
  {
   "cell_type": "code",
   "execution_count": 22,
   "metadata": {
    "collapsed": false
   },
   "outputs": [
    {
     "data": {
      "text/plain": [
       "43"
      ]
     },
     "execution_count": 22,
     "metadata": {},
     "output_type": "execute_result"
    }
   ],
   "source": [
    "max(x0 for x0, y0 in zip(x, connectivity_threshold) if y0 <= comparison_threshold)"
   ]
  },
  {
   "cell_type": "markdown",
   "metadata": {},
   "source": [
    "Size of image gallery that could be ranked with Rank Centrality given <code>comparison_threshold</code> comparisons is..."
   ]
  },
  {
   "cell_type": "code",
   "execution_count": 29,
   "metadata": {
    "collapsed": false
   },
   "outputs": [
    {
     "data": {
      "text/plain": [
       "19"
      ]
     },
     "execution_count": 29,
     "metadata": {},
     "output_type": "execute_result"
    }
   ],
   "source": [
    "max(x0 for x0, y0 in zip(x,rank_centrality) if y0 <= comparison_threshold)"
   ]
  },
  {
   "cell_type": "markdown",
   "metadata": {},
   "source": [
    "Biblliography:\n",
    "\n",
    "[1] Negahban, S., Oh, S., & Shah, D. (2012). Iterative ranking from pair-wise comparisons. In Advances in Neural Information Processing Systems (pp. 2474-2482)."
   ]
  }
 ],
 "metadata": {
  "kernelspec": {
   "display_name": "Python 3",
   "language": "python",
   "name": "python3"
  },
  "language_info": {
   "codemirror_mode": {
    "name": "ipython",
    "version": 3
   },
   "file_extension": ".py",
   "mimetype": "text/x-python",
   "name": "python",
   "nbconvert_exporter": "python",
   "pygments_lexer": "ipython3",
   "version": "3.4.1"
  }
 },
 "nbformat": 4,
 "nbformat_minor": 0
}
